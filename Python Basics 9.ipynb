{
 "cells": [
  {
   "cell_type": "markdown",
   "id": "86ba3bf7",
   "metadata": {},
   "source": [
    "# INDEXING"
   ]
  },
  {
   "cell_type": "code",
   "execution_count": 1,
   "id": "0dabcacd",
   "metadata": {},
   "outputs": [
    {
     "name": "stdout",
     "output_type": "stream",
     "text": [
      "W\n",
      "l\n",
      "o\n"
     ]
    }
   ],
   "source": [
    "# -->If index goes out of range then Index Error will be generated.\n",
    "\n",
    "s = \"Welcome\"   # index 0-6\n",
    "\n",
    "print(s[0])\n",
    "print(s[2])\n",
    "print(s[4])"
   ]
  },
  {
   "cell_type": "code",
   "execution_count": 2,
   "id": "7d4ad700",
   "metadata": {},
   "outputs": [
    {
     "ename": "IndexError",
     "evalue": "string index out of range",
     "output_type": "error",
     "traceback": [
      "\u001b[1;31m---------------------------------------------------------------------------\u001b[0m",
      "\u001b[1;31mIndexError\u001b[0m                                Traceback (most recent call last)",
      "\u001b[1;32m~\\AppData\\Local\\Temp/ipykernel_23192/799920375.py\u001b[0m in \u001b[0;36m<module>\u001b[1;34m\u001b[0m\n\u001b[0;32m      1\u001b[0m \u001b[0ms\u001b[0m \u001b[1;33m=\u001b[0m \u001b[1;34m\"Welcome\"\u001b[0m   \u001b[1;31m# index 0-6\u001b[0m\u001b[1;33m\u001b[0m\u001b[1;33m\u001b[0m\u001b[0m\n\u001b[0;32m      2\u001b[0m \u001b[1;33m\u001b[0m\u001b[0m\n\u001b[1;32m----> 3\u001b[1;33m \u001b[0mprint\u001b[0m\u001b[1;33m(\u001b[0m\u001b[0ms\u001b[0m\u001b[1;33m[\u001b[0m\u001b[1;36m8\u001b[0m\u001b[1;33m]\u001b[0m\u001b[1;33m)\u001b[0m     \u001b[1;31m# out of range\u001b[0m\u001b[1;33m\u001b[0m\u001b[1;33m\u001b[0m\u001b[0m\n\u001b[0m",
      "\u001b[1;31mIndexError\u001b[0m: string index out of range"
     ]
    }
   ],
   "source": [
    "s = \"Welcome\"   # index 0-6\n",
    "\n",
    "print(s[8])     # out of range"
   ]
  },
  {
   "cell_type": "code",
   "execution_count": 3,
   "id": "4bf52030",
   "metadata": {},
   "outputs": [
    {
     "name": "stdout",
     "output_type": "stream",
     "text": [
      "W\n",
      "W\n",
      "e\n"
     ]
    }
   ],
   "source": [
    "# --> If iterator is having n elements then its index will be start from 0 and will go till n-1.\n",
    "# --> Now Python even suppoerts negative indexing also.\n",
    "# --> If iterators is having n elements then its -ive index will start from -n and will go till -1.\n",
    "\n",
    "s = \"Welcome\"   # index 0-6    -7 to -1\n",
    "\n",
    "print(s[0])\n",
    "print(s[-7])\n",
    "print(s[-1])"
   ]
  },
  {
   "cell_type": "code",
   "execution_count": 5,
   "id": "298ac8bd",
   "metadata": {},
   "outputs": [
    {
     "name": "stdout",
     "output_type": "stream",
     "text": [
      "Shivam\n",
      "Amit\n",
      "i\n"
     ]
    }
   ],
   "source": [
    "cus = [\"Amit\",\"Ram\",\"Sonu\",\"Shivam\"]\n",
    "\n",
    "print(cus[-1])\n",
    "print(cus[-4])\n",
    "print(cus[-4][-2])"
   ]
  },
  {
   "cell_type": "code",
   "execution_count": 6,
   "id": "e40c9220",
   "metadata": {},
   "outputs": [
    {
     "name": "stdout",
     "output_type": "stream",
     "text": [
      "[88, 3, 4]\n"
     ]
    }
   ],
   "source": [
    "l1 = [2,3,4]\n",
    "\n",
    "l1[0] = 88      # list is mutable\n",
    "print(l1)"
   ]
  },
  {
   "cell_type": "code",
   "execution_count": 7,
   "id": "c2bc0f7e",
   "metadata": {},
   "outputs": [
    {
     "ename": "TypeError",
     "evalue": "'tuple' object does not support item assignment",
     "output_type": "error",
     "traceback": [
      "\u001b[1;31m---------------------------------------------------------------------------\u001b[0m",
      "\u001b[1;31mTypeError\u001b[0m                                 Traceback (most recent call last)",
      "\u001b[1;32m~\\AppData\\Local\\Temp/ipykernel_23192/2901749318.py\u001b[0m in \u001b[0;36m<module>\u001b[1;34m\u001b[0m\n\u001b[0;32m      1\u001b[0m \u001b[0ml1\u001b[0m \u001b[1;33m=\u001b[0m \u001b[1;33m(\u001b[0m\u001b[1;36m2\u001b[0m\u001b[1;33m,\u001b[0m\u001b[1;36m3\u001b[0m\u001b[1;33m,\u001b[0m\u001b[1;36m4\u001b[0m\u001b[1;33m)\u001b[0m\u001b[1;33m\u001b[0m\u001b[1;33m\u001b[0m\u001b[0m\n\u001b[0;32m      2\u001b[0m \u001b[1;33m\u001b[0m\u001b[0m\n\u001b[1;32m----> 3\u001b[1;33m \u001b[0ml1\u001b[0m\u001b[1;33m[\u001b[0m\u001b[1;36m0\u001b[0m\u001b[1;33m]\u001b[0m \u001b[1;33m=\u001b[0m \u001b[1;36m88\u001b[0m      \u001b[1;31m# tuple is immutable\u001b[0m\u001b[1;33m\u001b[0m\u001b[1;33m\u001b[0m\u001b[0m\n\u001b[0m\u001b[0;32m      4\u001b[0m \u001b[0mprint\u001b[0m\u001b[1;33m(\u001b[0m\u001b[0ml1\u001b[0m\u001b[1;33m)\u001b[0m\u001b[1;33m\u001b[0m\u001b[1;33m\u001b[0m\u001b[0m\n",
      "\u001b[1;31mTypeError\u001b[0m: 'tuple' object does not support item assignment"
     ]
    }
   ],
   "source": [
    "l1 = (2,3,4)\n",
    "\n",
    "l1[0] = 88      # tuple is immutable   \n",
    "print(l1)"
   ]
  },
  {
   "cell_type": "markdown",
   "id": "3eee3d44",
   "metadata": {},
   "source": [
    "#  SLICING"
   ]
  },
  {
   "cell_type": "code",
   "execution_count": null,
   "id": "9b602abd",
   "metadata": {},
   "outputs": [],
   "source": [
    "# --> To access 0,1 or more elemwnts from an iterator.\n",
    "\n",
    "s = \"Welcome\"    # index 0-6\n",
    "\n",
    "# Complete Syntax : var_name[lower bound : upper bound : step size]"
   ]
  },
  {
   "cell_type": "code",
   "execution_count": 8,
   "id": "2d8a1078",
   "metadata": {},
   "outputs": [
    {
     "name": "stdout",
     "output_type": "stream",
     "text": [
      "elco\n",
      "ecm\n"
     ]
    }
   ],
   "source": [
    "# 1) Upper bound is discarded in Python in most of the places.\n",
    "\n",
    "s = \"Welcome\"          # index 0-6\n",
    "\n",
    "print(s[1:5:1])        #s[1],s[2],s[3],s[4]\n",
    "print(s[1:6:2])        #s[1],s[3],s[5]"
   ]
  },
  {
   "cell_type": "code",
   "execution_count": 9,
   "id": "a52bee6e",
   "metadata": {},
   "outputs": [
    {
     "name": "stdout",
     "output_type": "stream",
     "text": [
      "elc\n"
     ]
    }
   ],
   "source": [
    "# 2) Step size is optional, Default step size is always 1.\n",
    "\n",
    "s = \"Welcome\"      #index 0-6\n",
    "\n",
    "print(s[1:4])      #s[1],s[2],s[3]"
   ]
  },
  {
   "cell_type": "markdown",
   "id": "493957c3",
   "metadata": {},
   "source": [
    "# +ive Step size"
   ]
  },
  {
   "cell_type": "code",
   "execution_count": null,
   "id": "49cacf15",
   "metadata": {},
   "outputs": [],
   "source": [
    "# --> If step size is +ive:\n",
    "    \n",
    "#     -->Results moves from left to right.\n",
    "#     -->Default lower bound : 0\n",
    "#     -->Default lower bound : n\n",
    "#     -->if add step size in lower bound then value should move towards upper bound if it doesn't happen then we get the empty\n",
    "#        output i.e. in case of +ive step size upper bound is always be bigger then lower bound.\n",
    "#     -->In case of +ive step size upper bound is always be bigger then lower bound."
   ]
  },
  {
   "cell_type": "code",
   "execution_count": null,
   "id": "e664160e",
   "metadata": {},
   "outputs": [],
   "source": [
    "# 3) If index(upper bound or lower bound) in slicing goes out of range then their won't be any error."
   ]
  },
  {
   "cell_type": "code",
   "execution_count": 11,
   "id": "e8d10045",
   "metadata": {},
   "outputs": [
    {
     "name": "stdout",
     "output_type": "stream",
     "text": [
      "\n",
      "<class 'str'>\n"
     ]
    }
   ],
   "source": [
    "s = \"Welcome\"      #index 0-6\n",
    "\n",
    "print(s[20:80:1])   # empty string\n",
    "print(type(s[20:80:1]))"
   ]
  },
  {
   "cell_type": "code",
   "execution_count": 12,
   "id": "5ea24e6f",
   "metadata": {},
   "outputs": [
    {
     "name": "stdout",
     "output_type": "stream",
     "text": [
      "Welcome\n",
      "Welco\n",
      "lcome\n",
      "lcome\n"
     ]
    }
   ],
   "source": [
    "s = \"Welcome\"      #index 0-6\n",
    "\n",
    "print(s)\n",
    "print(s[:5])       # default lower bound 0\n",
    "print(s[2:])       # default upper bound n\n",
    "print(s[2::1])"
   ]
  },
  {
   "cell_type": "code",
   "execution_count": 13,
   "id": "d8de2ab1",
   "metadata": {},
   "outputs": [
    {
     "name": "stdout",
     "output_type": "stream",
     "text": [
      "Welcome\n",
      "Welcome\n",
      "Welcome\n"
     ]
    }
   ],
   "source": [
    "s = \"Welcome\"      #index 0-6\n",
    "\n",
    "print(s)\n",
    "print(s[:])\n",
    "print(s[::])"
   ]
  },
  {
   "cell_type": "code",
   "execution_count": 14,
   "id": "3ebc75ba",
   "metadata": {},
   "outputs": [
    {
     "name": "stdout",
     "output_type": "stream",
     "text": [
      "Wloe\n"
     ]
    }
   ],
   "source": [
    "# Print all elements at even indices.\n",
    "\n",
    "s = \"Welcome\"      #index 0-6\n",
    "\n",
    "print(s[::2])      #s[0],s[2],s[4],s[6]"
   ]
  },
  {
   "cell_type": "code",
   "execution_count": 17,
   "id": "6faa82c9",
   "metadata": {},
   "outputs": [
    {
     "name": "stdout",
     "output_type": "stream",
     "text": [
      "\n",
      "<class 'str'>\n",
      "\n",
      "<class 'str'>\n",
      "elco\n",
      "\n",
      "<class 'str'>\n"
     ]
    }
   ],
   "source": [
    "s = \"Welcome\"      #index 0-6\n",
    "\n",
    "print(s[6:2])      #upper bond > lower bound in +ive step size\n",
    "print(type(s[6:2]))\n",
    "print(s[2:2])\n",
    "print(type(s[2:2]))\n",
    "print(s[-6:-2])    #step size is 1 \n",
    "print(s[-2:-6])\n",
    "print(type(s[-2:-6]))"
   ]
  },
  {
   "cell_type": "markdown",
   "id": "2c46232e",
   "metadata": {},
   "source": [
    "# -ive step size"
   ]
  },
  {
   "cell_type": "code",
   "execution_count": null,
   "id": "a47eceea",
   "metadata": {},
   "outputs": [],
   "source": [
    "# -->Result moves from right to left only.\n",
    "# -->Default lower bound : -1\n",
    "# -->Default upper bound : -n-1\n",
    "# -->if we add step size in lower bound then value should move towards upper bound if it doesn't happen then we get the empty\n",
    "#    output i.e. in case of negative step size upper bound shoulsd always be smaller then lower bound. \n",
    "# -->upper bound is always smaller then lower bound else empty string."
   ]
  },
  {
   "cell_type": "code",
   "execution_count": 18,
   "id": "9602fb5c",
   "metadata": {},
   "outputs": [
    {
     "name": "stdout",
     "output_type": "stream",
     "text": [
      "emo\n",
      "mc\n"
     ]
    }
   ],
   "source": [
    "s = \"Welcome\"      #index 0-6\n",
    "\n",
    "print(s[-1:-4:-1])\n",
    "print(s[-2:-6:-2])"
   ]
  },
  {
   "cell_type": "code",
   "execution_count": 20,
   "id": "c63953f8",
   "metadata": {},
   "outputs": [
    {
     "name": "stdout",
     "output_type": "stream",
     "text": [
      "\n",
      "<class 'str'>\n",
      "\n",
      "<class 'str'>\n",
      "ocl\n"
     ]
    }
   ],
   "source": [
    "s = \"Welcome\"      #index 0-6\n",
    "\n",
    "print(s[-6:-2:-1])          #u.b < l.b in -ive step size\n",
    "print(type(s[-6:-2:-1]))\n",
    "print(s[1:4:-1])            #u.b < l.b\n",
    "print(type(s[1:4:-1]))\n",
    "\n",
    "print(s[4:1:-1])"
   ]
  },
  {
   "cell_type": "code",
   "execution_count": 21,
   "id": "3c1aaf6a",
   "metadata": {},
   "outputs": [
    {
     "name": "stdout",
     "output_type": "stream",
     "text": [
      "lco\n"
     ]
    }
   ],
   "source": [
    "# 4) if we add step size in in lower bound then values should move toward upper bound if it doesn't hapen then we get empty\n",
    "#    output.\n",
    "    \n",
    "# 5) In case lower and upper bound are of differnet sign then firstly we need to convert then to common sign(+ive, -ive)\n",
    "\n",
    "\n",
    "s = \"Welcome\"      #index 0-6\n",
    "\n",
    "print(s[2:-2:1])   #s[2:5:1]"
   ]
  },
  {
   "cell_type": "code",
   "execution_count": 23,
   "id": "1b80571e",
   "metadata": {},
   "outputs": [
    {
     "name": "stdout",
     "output_type": "stream",
     "text": [
      "\n",
      "<class 'str'>\n"
     ]
    }
   ],
   "source": [
    "s = \"Welcome\"      #index 0-6\n",
    "\n",
    "print(s[-2:2:1])   #s[5:2:1]    +ive step size   u.b> l.b\n",
    "print(type(s[-2:2:1]))"
   ]
  },
  {
   "cell_type": "code",
   "execution_count": 24,
   "id": "71917a64",
   "metadata": {},
   "outputs": [
    {
     "name": "stdout",
     "output_type": "stream",
     "text": [
      "moc\n"
     ]
    }
   ],
   "source": [
    "s = \"Welcome\"      #index 0-6\n",
    "\n",
    "print(s[-2:2:-1])    #s[5:2:-1]"
   ]
  }
 ],
 "metadata": {
  "kernelspec": {
   "display_name": "Python 3 (ipykernel)",
   "language": "python",
   "name": "python3"
  },
  "language_info": {
   "codemirror_mode": {
    "name": "ipython",
    "version": 3
   },
   "file_extension": ".py",
   "mimetype": "text/x-python",
   "name": "python",
   "nbconvert_exporter": "python",
   "pygments_lexer": "ipython3",
   "version": "3.9.7"
  }
 },
 "nbformat": 4,
 "nbformat_minor": 5
}
