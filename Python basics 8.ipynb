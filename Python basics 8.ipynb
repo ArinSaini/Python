{
 "cells": [
  {
   "cell_type": "markdown",
   "id": "9e37e1dc",
   "metadata": {},
   "source": [
    "# Data Types"
   ]
  },
  {
   "cell_type": "code",
   "execution_count": null,
   "id": "6e0d2528",
   "metadata": {},
   "outputs": [],
   "source": [
    "# -->Single Element: int, float, complex, Boolean, None type.\n",
    "\n",
    "# -->Multielement/Iterator: str, list, tupple, dictionary, set, frozen set.\n",
    "    \n",
    "# --->String collection of homogeneous data type i.e. character.\n",
    "# --->List is a collection hetrogeneous data type."
   ]
  },
  {
   "cell_type": "code",
   "execution_count": 2,
   "id": "711d02cd",
   "metadata": {},
   "outputs": [
    {
     "name": "stdout",
     "output_type": "stream",
     "text": [
      "W\n",
      "L\n",
      "O\n",
      "E\n"
     ]
    }
   ],
   "source": [
    "S=\"WELCOME\"     #indexing: 0-6\n",
    "\n",
    "print(S[0])\n",
    "print(S[2])\n",
    "print(S[4])\n",
    "print(S[6])"
   ]
  },
  {
   "cell_type": "code",
   "execution_count": 10,
   "id": "0c15c863",
   "metadata": {},
   "outputs": [
    {
     "name": "stdout",
     "output_type": "stream",
     "text": [
      "WELCOME\n",
      "L\n",
      "LCOM\n"
     ]
    }
   ],
   "source": [
    "l1=[22,33.4,55,88,\"WELCOME\"]   #index  0-4\n",
    "\n",
    "print(l1[4])        #WELCOME   index: 0-6\n",
    "print(l1[4][2])\n",
    "print(l1[4][2:6])"
   ]
  },
  {
   "cell_type": "code",
   "execution_count": 11,
   "id": "2601761b",
   "metadata": {},
   "outputs": [
    {
     "name": "stdout",
     "output_type": "stream",
     "text": [
      "[5, 6, 7]\n",
      "2\n",
      "7\n"
     ]
    }
   ],
   "source": [
    "l1=[[2,3,4],[5,6,7]]  #index: 0-1\n",
    "\n",
    "print(l1[1])   #[5,6,7]  index: 0-2\n",
    "print(len(l1))                                     # 2-D Array\n",
    "print(l1[1][2])"
   ]
  },
  {
   "cell_type": "markdown",
   "id": "4444c66e",
   "metadata": {},
   "source": [
    "# Mutable Data types"
   ]
  },
  {
   "cell_type": "code",
   "execution_count": null,
   "id": "2bd050de",
   "metadata": {},
   "outputs": [],
   "source": [
    "# -->Which can be modified. Can understand it better it is element of mutable types can be changed.\n",
    "\n",
    "# -->Example: list,dict,set are mutable data type."
   ]
  },
  {
   "cell_type": "markdown",
   "id": "87f8a832",
   "metadata": {},
   "source": [
    "# Immutable Data types"
   ]
  },
  {
   "cell_type": "code",
   "execution_count": null,
   "id": "4bc55318",
   "metadata": {},
   "outputs": [],
   "source": [
    "# --> Which can't be modified.\n",
    "\n",
    "# -->Example: int,float,complex,bool,None type,str,tupple and frozen set are immutable data type."
   ]
  },
  {
   "cell_type": "code",
   "execution_count": 12,
   "id": "10d0b75d",
   "metadata": {},
   "outputs": [
    {
     "name": "stdout",
     "output_type": "stream",
     "text": [
      "5 2024332945840\n",
      "7 2024332945904\n"
     ]
    }
   ],
   "source": [
    "x=5\n",
    "print(x,id(x))     #id changed\n",
    "x=7\n",
    "print(x,id(x))"
   ]
  },
  {
   "cell_type": "code",
   "execution_count": 13,
   "id": "06edd2bd",
   "metadata": {},
   "outputs": [
    {
     "name": "stdout",
     "output_type": "stream",
     "text": [
      "Welcome 2024416321136\n",
      "World 2024416321392\n"
     ]
    }
   ],
   "source": [
    "x=\"Welcome\"\n",
    "print(x,id(x))    #id changed\n",
    "x=\"World\"\n",
    "print(x,id(x))"
   ]
  },
  {
   "cell_type": "code",
   "execution_count": 14,
   "id": "a9d9fc02",
   "metadata": {},
   "outputs": [
    {
     "ename": "TypeError",
     "evalue": "'str' object does not support item assignment",
     "output_type": "error",
     "traceback": [
      "\u001b[1;31m---------------------------------------------------------------------------\u001b[0m",
      "\u001b[1;31mTypeError\u001b[0m                                 Traceback (most recent call last)",
      "\u001b[1;32m~\\AppData\\Local\\Temp/ipykernel_24464/261175718.py\u001b[0m in \u001b[0;36m<module>\u001b[1;34m\u001b[0m\n\u001b[0;32m      1\u001b[0m \u001b[0mx\u001b[0m\u001b[1;33m=\u001b[0m\u001b[1;34m\"welcome\"\u001b[0m     \u001b[1;31m#index: 0-6\u001b[0m\u001b[1;33m\u001b[0m\u001b[1;33m\u001b[0m\u001b[0m\n\u001b[1;32m----> 2\u001b[1;33m \u001b[0mx\u001b[0m\u001b[1;33m[\u001b[0m\u001b[1;36m0\u001b[0m\u001b[1;33m]\u001b[0m\u001b[1;33m=\u001b[0m\u001b[1;34m\"M\"\u001b[0m\u001b[1;33m\u001b[0m\u001b[1;33m\u001b[0m\u001b[0m\n\u001b[0m",
      "\u001b[1;31mTypeError\u001b[0m: 'str' object does not support item assignment"
     ]
    }
   ],
   "source": [
    "x=\"welcome\"     #index: 0-6\n",
    "x[0]=\"M\"        #str is immutable"
   ]
  },
  {
   "cell_type": "code",
   "execution_count": 15,
   "id": "d127ae26",
   "metadata": {},
   "outputs": [
    {
     "name": "stdout",
     "output_type": "stream",
     "text": [
      "2024416478592\n",
      "2024416321136\n"
     ]
    }
   ],
   "source": [
    "l1=[22,33,44,55,66]\n",
    "print(id(l1))         #id changed\n",
    "l1=\"Welcome\"\n",
    "print(id(l1))"
   ]
  },
  {
   "cell_type": "code",
   "execution_count": 16,
   "id": "4c357000",
   "metadata": {},
   "outputs": [
    {
     "name": "stdout",
     "output_type": "stream",
     "text": [
      "2024416477504\n",
      "[99, 33, 44, 55, 66]\n",
      "2024416477504\n"
     ]
    }
   ],
   "source": [
    "l1=[22,33,44,55,66]\n",
    "print(id(l1))          #id not changed\n",
    "l1[0]=99\n",
    "print(l1)\n",
    "print(id(l1))"
   ]
  },
  {
   "cell_type": "markdown",
   "id": "6f05248c",
   "metadata": {},
   "source": [
    "# Tuple"
   ]
  },
  {
   "cell_type": "code",
   "execution_count": 17,
   "id": "3af59d9b",
   "metadata": {},
   "outputs": [
    {
     "name": "stdout",
     "output_type": "stream",
     "text": [
      "(22, 23.5, 'WELCOME', True)\n",
      "<class 'tuple'>\n"
     ]
    }
   ],
   "source": [
    "# -->Collection of Hetrogeneous Data Type.\n",
    "# -->Immutable in nature.\n",
    "\n",
    "# -->Syntax:\n",
    "    \n",
    "#     (comma seperated element)\n",
    "\n",
    "#New problem\n",
    "\n",
    "t=(22,23.5,\"WELCOME\",True)\n",
    "print(t)\n",
    "print(type(t))"
   ]
  },
  {
   "cell_type": "code",
   "execution_count": 18,
   "id": "5dde223b",
   "metadata": {},
   "outputs": [
    {
     "ename": "TypeError",
     "evalue": "'tuple' object does not support item assignment",
     "output_type": "error",
     "traceback": [
      "\u001b[1;31m---------------------------------------------------------------------------\u001b[0m",
      "\u001b[1;31mTypeError\u001b[0m                                 Traceback (most recent call last)",
      "\u001b[1;32m~\\AppData\\Local\\Temp/ipykernel_24464/3988121447.py\u001b[0m in \u001b[0;36m<module>\u001b[1;34m\u001b[0m\n\u001b[0;32m      1\u001b[0m \u001b[0mt\u001b[0m\u001b[1;33m=\u001b[0m\u001b[1;33m(\u001b[0m\u001b[1;36m2\u001b[0m\u001b[1;33m,\u001b[0m\u001b[1;36m3\u001b[0m\u001b[1;33m,\u001b[0m\u001b[1;36m4\u001b[0m\u001b[1;33m,\u001b[0m\u001b[1;36m5\u001b[0m\u001b[1;33m)\u001b[0m\u001b[1;33m\u001b[0m\u001b[1;33m\u001b[0m\u001b[0m\n\u001b[1;32m----> 2\u001b[1;33m \u001b[0mt\u001b[0m\u001b[1;33m[\u001b[0m\u001b[1;36m0\u001b[0m\u001b[1;33m]\u001b[0m\u001b[1;33m=\u001b[0m\u001b[1;36m8\u001b[0m        \u001b[1;31m#tupple is immutable\u001b[0m\u001b[1;33m\u001b[0m\u001b[1;33m\u001b[0m\u001b[0m\n\u001b[0m\u001b[0;32m      3\u001b[0m \u001b[0mprint\u001b[0m\u001b[1;33m(\u001b[0m\u001b[0mt\u001b[0m\u001b[1;33m)\u001b[0m\u001b[1;33m\u001b[0m\u001b[1;33m\u001b[0m\u001b[0m\n",
      "\u001b[1;31mTypeError\u001b[0m: 'tuple' object does not support item assignment"
     ]
    }
   ],
   "source": [
    "t=(2,3,4,5)\n",
    "t[0]=8        #tupple is immutable\n",
    "print(t)"
   ]
  },
  {
   "cell_type": "code",
   "execution_count": 20,
   "id": "916f7aac",
   "metadata": {},
   "outputs": [
    {
     "name": "stdout",
     "output_type": "stream",
     "text": [
      "2024332945840 2024332945840\n",
      "2024332945872 2024332945840\n"
     ]
    }
   ],
   "source": [
    "# --->All variables in python are of refrence type . If we assign one variable to another then their addresses are coied.\n",
    "\n",
    "a=5                 # a address is 1000 (assume)\n",
    "b=a                 # b address is 1000\n",
    "print(id(a),id(b))\n",
    "a=6                 # a address is 2000, b address is 1000\n",
    "print(id(a),id(b))"
   ]
  },
  {
   "cell_type": "code",
   "execution_count": 21,
   "id": "9b47584d",
   "metadata": {},
   "outputs": [
    {
     "name": "stdout",
     "output_type": "stream",
     "text": [
      "2024416513344\n",
      "2024416513344\n",
      "[22, 68, 88, 55]\n"
     ]
    }
   ],
   "source": [
    "# ---> If we modify/increase/decrease the element of list the base address of list won't change.\n",
    "\n",
    "l1=[22,44,88,55]\n",
    "print(id(l1))\n",
    "l1[1] = 68\n",
    "print(id(l1))\n",
    "print(l1)"
   ]
  },
  {
   "cell_type": "code",
   "execution_count": 22,
   "id": "c1e4a90b",
   "metadata": {},
   "outputs": [
    {
     "name": "stdout",
     "output_type": "stream",
     "text": [
      "5\n",
      "[66, 33, 44]\n"
     ]
    }
   ],
   "source": [
    "# --->In list address will same but element changes after modification while not in integer type.\n",
    "\n",
    "a=5\n",
    "b=a\n",
    "a=6\n",
    "print(b)       #b will not change after modification in a\n",
    "l1=[22,33,44]\n",
    "l2=l1\n",
    "l1[0]=66\n",
    "print(l2)     #l2 change after modification in l1"
   ]
  },
  {
   "cell_type": "code",
   "execution_count": 23,
   "id": "7006140c",
   "metadata": {},
   "outputs": [
    {
     "name": "stdout",
     "output_type": "stream",
     "text": [
      "2024416507712 2024416507712 2024416512768\n"
     ]
    }
   ],
   "source": [
    "l1=[22,33,44]       # l1 = same address\n",
    "l2=l1               # l2 = same address\n",
    "l3=l1.copy()        # l3 = different address\n",
    "print(id(l1),id(l2),id(l3))"
   ]
  },
  {
   "cell_type": "code",
   "execution_count": 24,
   "id": "8bf461b8",
   "metadata": {},
   "outputs": [
    {
     "name": "stdout",
     "output_type": "stream",
     "text": [
      "[66, 33, 44]\n"
     ]
    }
   ],
   "source": [
    "# ---\\ \n",
    "#      Tuple is generally used to share data between presentation layer and business layer(BL).\n",
    "# ---/\n",
    "\n",
    "def func1(l2):    #l2 address is 1000 (assume)\n",
    "    l2[0] = 66    #l2 address is 1000\n",
    "    \n",
    "l1=[22,33,44]     #l1 address is 1000\n",
    "func1(l1)         #l2=l1\n",
    "print(l1)         "
   ]
  },
  {
   "cell_type": "markdown",
   "id": "9d1bf725",
   "metadata": {},
   "source": [
    "# Changing List to Tuple"
   ]
  },
  {
   "cell_type": "code",
   "execution_count": 25,
   "id": "88407f78",
   "metadata": {},
   "outputs": [
    {
     "name": "stdout",
     "output_type": "stream",
     "text": [
      "(22, 33, 44)\n",
      "['W', 'E', 'L', 'C', 'O', 'M', 'E']\n"
     ]
    }
   ],
   "source": [
    "l1=[22,33,44]\n",
    "t=tuple(l1)\n",
    "print(t)\n",
    "\n",
    "s=\"WELCOME\"\n",
    "l2=list(s)\n",
    "print(l2)"
   ]
  }
 ],
 "metadata": {
  "kernelspec": {
   "display_name": "Python 3 (ipykernel)",
   "language": "python",
   "name": "python3"
  },
  "language_info": {
   "codemirror_mode": {
    "name": "ipython",
    "version": 3
   },
   "file_extension": ".py",
   "mimetype": "text/x-python",
   "name": "python",
   "nbconvert_exporter": "python",
   "pygments_lexer": "ipython3",
   "version": "3.9.7"
  }
 },
 "nbformat": 4,
 "nbformat_minor": 5
}
