{
 "cells": [
  {
   "cell_type": "markdown",
   "id": "e003c93c",
   "metadata": {},
   "source": [
    "# Indexing"
   ]
  },
  {
   "cell_type": "code",
   "execution_count": null,
   "id": "96828b83",
   "metadata": {},
   "outputs": [],
   "source": [
    "# +ive step size\n",
    "\n",
    "# 1. Default lower bound=0\n",
    "# 2. Default lower bound=n\n",
    "# 3. upper bound > lower bound  else empty value\n",
    "# 4. Left ---> Right ==> Output\n"
   ]
  },
  {
   "cell_type": "code",
   "execution_count": 2,
   "id": "e48572c5",
   "metadata": {},
   "outputs": [
    {
     "name": "stdout",
     "output_type": "stream",
     "text": [
      "[120, 110, 99, 89, 78, 56, 45, 34, 23]\n"
     ]
    }
   ],
   "source": [
    "# For Reverse\n",
    "\n",
    "popu=[23,34,45,56,78,89,99,110,120]\n",
    "popu__des=popu[ : :-1]\n",
    "print(popu__des)"
   ]
  },
  {
   "cell_type": "code",
   "execution_count": null,
   "id": "e2d8225c",
   "metadata": {},
   "outputs": [],
   "source": [
    "# -ive step size\n",
    "\n",
    "# 1.Default lower bound=-1\n",
    "# 2.upper bound < lower bound  else empty value.\n",
    "# 3. If upperbound and lower bound are of different sign then firstly bring them to a common sign.\n",
    "# 4. Right--->Left ===> Output"
   ]
  },
  {
   "cell_type": "code",
   "execution_count": 3,
   "id": "52ab9f1f",
   "metadata": {},
   "outputs": [
    {
     "name": "stdout",
     "output_type": "stream",
     "text": [
      "\n"
     ]
    }
   ],
   "source": [
    "s=\"welcome\"\n",
    "print(s[-5:4:-1])    #empty string"
   ]
  },
  {
   "cell_type": "code",
   "execution_count": 4,
   "id": "ce56a044",
   "metadata": {},
   "outputs": [
    {
     "name": "stdout",
     "output_type": "stream",
     "text": [
      "mocl\n",
      "mocl\n"
     ]
    }
   ],
   "source": [
    "s=\"welcome\"\n",
    "print(s[-2:1:-1])\n",
    "\n",
    "#convert on common sign with help of indexing\n",
    "\n",
    "print(s[5:1:-1])"
   ]
  },
  {
   "cell_type": "code",
   "execution_count": null,
   "id": "60ec1151",
   "metadata": {},
   "outputs": [],
   "source": [
    "# Final Summary\n",
    "\n",
    "# -->After addind size in lower bound if we are approaching towards upper bound then we will get output."
   ]
  },
  {
   "cell_type": "code",
   "execution_count": 5,
   "id": "80c7318c",
   "metadata": {},
   "outputs": [
    {
     "name": "stdout",
     "output_type": "stream",
     "text": [
      "Sonu\n",
      "Sonu Prakash\n"
     ]
    }
   ],
   "source": [
    "# Update the List\n",
    "\n",
    "l1=[\"Ram\",\"Anil\",\"Vikas\",\"Sonu\"]\n",
    "print(l1[-1])\n",
    "l1[-1]=\"Sonu Prakash\"\n",
    "print(l1[-1])"
   ]
  },
  {
   "cell_type": "markdown",
   "id": "42ede5b5",
   "metadata": {},
   "source": [
    "# OPERATORS    (7 types)"
   ]
  },
  {
   "cell_type": "code",
   "execution_count": null,
   "id": "567344e7",
   "metadata": {},
   "outputs": [],
   "source": [
    "# 1.Arithmetic Operators\n",
    "# 2.Logical Operators\n",
    "# 3.Conditional Operators\n",
    "# 4.Bitwise Operators\n",
    "# 5.Assignment Operators\n",
    "# 6.Identity Operators\n",
    "# 7.Membership Operators"
   ]
  },
  {
   "cell_type": "markdown",
   "id": "936f1c5e",
   "metadata": {},
   "source": [
    "#  Arithmetic Operators     (7 types)"
   ]
  },
  {
   "cell_type": "code",
   "execution_count": 7,
   "id": "5ff3045c",
   "metadata": {},
   "outputs": [
    {
     "name": "stdout",
     "output_type": "stream",
     "text": [
      "12\n",
      "-2\n",
      "35\n",
      "0.7142857142857143\n",
      "5\n",
      "78125\n",
      "0\n"
     ]
    }
   ],
   "source": [
    "# +  --> Addition\n",
    "# -  --> Subtraction\n",
    "# *  --> Multiplication\n",
    "# /  --> Division\n",
    "# %  --> Modulus : Remainder\n",
    "# ** --> Power\n",
    "# // --> Floor Division : Nearest smaller quotient as whole number.\n",
    "\n",
    "\n",
    "# New Program\n",
    "\n",
    "\n",
    "a,b=5,7\n",
    "print(a+b)\n",
    "print(a-b)\n",
    "print(a*b)\n",
    "print(a/b)   #In python division of two integer will always give float\n",
    "print(a%b)\n",
    "print(a**b)\n",
    "print(a//b)"
   ]
  },
  {
   "cell_type": "markdown",
   "id": "43f2c6a7",
   "metadata": {},
   "source": [
    "#  Conditional Operators (6 types)"
   ]
  },
  {
   "cell_type": "code",
   "execution_count": 11,
   "id": "a3591ef0",
   "metadata": {},
   "outputs": [
    {
     "name": "stdout",
     "output_type": "stream",
     "text": [
      "False\n",
      "True\n",
      "True\n",
      "False\n",
      "True\n",
      "False\n"
     ]
    }
   ],
   "source": [
    "# ==  --> Equals to\n",
    "# !=   --> Not equals to\n",
    "# >   --> Greater than\n",
    "# <   --> Less than\n",
    "# >=  --> Greater than Equals to\n",
    "# <=  --> Less than Equals to\n",
    "\n",
    "# Returns True or False\n",
    "\n",
    "\n",
    "# New Program\n",
    "\n",
    "\n",
    "a,b=36,12\n",
    "print(a==b)\n",
    "print(a!=b)\n",
    "print(a>b)\n",
    "print(a<b)\n",
    "print(a>=b)\n",
    "print(a<=b)"
   ]
  },
  {
   "cell_type": "markdown",
   "id": "8924c367",
   "metadata": {},
   "source": [
    "#  Logical Operator  (3 types)"
   ]
  },
  {
   "cell_type": "code",
   "execution_count": 13,
   "id": "f8cb22a0",
   "metadata": {},
   "outputs": [
    {
     "name": "stdout",
     "output_type": "stream",
     "text": [
      "True\n",
      "True\n"
     ]
    }
   ],
   "source": [
    "# and --> If both inputs are true then only output true else output false.\n",
    "# or  --> If any one of thr input is true then output is true else output false.\n",
    "# not --> Reverse the input : if input true then output false.\n",
    "\n",
    "    \n",
    "# New Program\n",
    "\n",
    "a,b=2,3\n",
    "\n",
    "print(a==2 and b==3)\n",
    "\n",
    "print(a>3 or b<=3)"
   ]
  }
 ],
 "metadata": {
  "kernelspec": {
   "display_name": "Python 3 (ipykernel)",
   "language": "python",
   "name": "python3"
  },
  "language_info": {
   "codemirror_mode": {
    "name": "ipython",
    "version": 3
   },
   "file_extension": ".py",
   "mimetype": "text/x-python",
   "name": "python",
   "nbconvert_exporter": "python",
   "pygments_lexer": "ipython3",
   "version": "3.9.7"
  }
 },
 "nbformat": 4,
 "nbformat_minor": 5
}
