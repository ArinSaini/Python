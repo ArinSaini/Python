{
 "cells": [
  {
   "cell_type": "markdown",
   "id": "d9d4c3ff",
   "metadata": {},
   "source": [
    "# Functions"
   ]
  },
  {
   "cell_type": "code",
   "execution_count": null,
   "id": "da8b6dc6",
   "metadata": {},
   "outputs": [],
   "source": [
    "# --->Block of code generally depend to perform specific task.\n",
    "\n",
    "# --->Why functions:\n",
    "    \n",
    "#     1.Code Resusable.\n",
    "#     2.Funtions are the basic bulding block of modular approach of programming.\n",
    "#     3.Functions are the basic bulding block of layered architecture.\n",
    "#     4.Functions are also the basic bulding blocks of multi threading.\n",
    "#     5.Scalable code: Easily Modification Possible.\n",
    "\n",
    "# --->Modular Approach: Dividing your program into small modules."
   ]
  },
  {
   "cell_type": "code",
   "execution_count": null,
   "id": "c296d042",
   "metadata": {},
   "outputs": [],
   "source": [
    "# --> User defined Functions:\n",
    "    \n",
    "# --> Syntax : To create Functions:\n",
    "    \n",
    "# def function_name (arguments):      #arguments: Formal parameters\n",
    "#     Block of code\n",
    "#     return argument (optionsl)\n",
    "\n",
    "# --> Syntax : To call a function:\n",
    "        \n",
    "# function_name (arguments):    #arguments: Actual parameters"
   ]
  },
  {
   "cell_type": "code",
   "execution_count": 2,
   "id": "afa9da0c",
   "metadata": {},
   "outputs": [
    {
     "name": "stdout",
     "output_type": "stream",
     "text": [
      "8\n",
      "8\n"
     ]
    }
   ],
   "source": [
    "# -->Keywords: Pre defined words. Eg: if, elif, else, def etc.\n",
    "\n",
    "# -->Identifiers: User defined Words. Eg: variable name, function name, class name....\n",
    "\n",
    "# -->Rules of Identifiers:\n",
    "#     1. Valid Identifiers: can be collection of:\n",
    "#             -->English Alphabets(a to z or A to Z)\n",
    "#             -->Number(0-9)\n",
    "#             -->Symbol special: only underscore\n",
    "                \n",
    "#     2. Invalid Identifiers:\n",
    "#             -->First character should not be start with no.\n",
    "#             -->No other special symbol allowed other than underscore\n",
    "#             -->Keyword can't be used as identifiers.\n",
    "\n",
    "#New Program\n",
    "\n",
    "a42_=8\n",
    "print(a42_)\n",
    "\n",
    "vikas=8\n",
    "print(vikas)\n",
    "\n",
    "            "
   ]
  },
  {
   "cell_type": "code",
   "execution_count": 3,
   "id": "70b415c3",
   "metadata": {},
   "outputs": [
    {
     "ename": "SyntaxError",
     "evalue": "invalid syntax (Temp/ipykernel_14624/2382282777.py, line 1)",
     "output_type": "error",
     "traceback": [
      "\u001b[1;36m  File \u001b[1;32m\"C:\\Users\\Abhi\\AppData\\Local\\Temp/ipykernel_14624/2382282777.py\"\u001b[1;36m, line \u001b[1;32m1\u001b[0m\n\u001b[1;33m    arin saini=8\u001b[0m\n\u001b[1;37m         ^\u001b[0m\n\u001b[1;31mSyntaxError\u001b[0m\u001b[1;31m:\u001b[0m invalid syntax\n"
     ]
    }
   ],
   "source": [
    "arin saini=8\n",
    "print(arin saini)   #invalid identifiers because there is space not underscore"
   ]
  },
  {
   "cell_type": "code",
   "execution_count": 4,
   "id": "caa170b5",
   "metadata": {},
   "outputs": [
    {
     "name": "stdout",
     "output_type": "stream",
     "text": [
      "5 8\n"
     ]
    }
   ],
   "source": [
    "# -->Python is case sensitive language.\n",
    "\n",
    "a=5\n",
    "A=8\n",
    "print(a,A)"
   ]
  },
  {
   "cell_type": "markdown",
   "id": "456f8c81",
   "metadata": {},
   "source": [
    "#  Layered Architecture"
   ]
  },
  {
   "cell_type": "code",
   "execution_count": null,
   "id": "bcebe843",
   "metadata": {},
   "outputs": [],
   "source": [
    "# --> At top there are different types of layers in the program. The most popular 2 layers in layered architecture at top level\n",
    "#     are:\n",
    "        \n",
    "# 1.Presentation Layer: Responsible for user interaction.\n",
    "# 2.Business Layer: Responsible for implementation the actual functionality of the code is responsible for writing the business\n",
    "#                    logic."
   ]
  },
  {
   "cell_type": "code",
   "execution_count": 6,
   "id": "eb5e68cc",
   "metadata": {},
   "outputs": [
    {
     "name": "stdout",
     "output_type": "stream",
     "text": [
      "12\n"
     ]
    }
   ],
   "source": [
    "# --->WAP to add 2 no. with help of function?\n",
    "\n",
    "def add(a,b):\n",
    "    s=a+b\n",
    "    return s\n",
    "\n",
    "a,b=5,7\n",
    "r=add(a,b)\n",
    "print(r)"
   ]
  },
  {
   "cell_type": "code",
   "execution_count": 7,
   "id": "a2f36b33",
   "metadata": {},
   "outputs": [
    {
     "name": "stdout",
     "output_type": "stream",
     "text": [
      "5\n",
      "9\n"
     ]
    }
   ],
   "source": [
    "# --->WAP to add no. with help of function?\n",
    "\n",
    "def add(u,v):\n",
    "    s=u+v\n",
    "    return s\n",
    "\n",
    "a,b,c,d=2,3,4,5\n",
    "r1=add(a,b)\n",
    "print(r1)\n",
    "r2=add(c,d)\n",
    "print(r2)"
   ]
  },
  {
   "cell_type": "code",
   "execution_count": 8,
   "id": "faddec9d",
   "metadata": {},
   "outputs": [
    {
     "name": "stdout",
     "output_type": "stream",
     "text": [
      "None\n",
      "<class 'NoneType'>\n"
     ]
    }
   ],
   "source": [
    "# --> The function which do not return any value then they by default return None value.\n",
    "\n",
    "def myfunc(a,b):\n",
    "    s=a+b\n",
    "    \n",
    "r=myfunc(5,7)\n",
    "print(r)\n",
    "print(type(r))"
   ]
  },
  {
   "cell_type": "code",
   "execution_count": 9,
   "id": "0bcef40f",
   "metadata": {},
   "outputs": [
    {
     "name": "stdout",
     "output_type": "stream",
     "text": [
      "WELCOME\n",
      "None\n"
     ]
    }
   ],
   "source": [
    "a=print(\"WELCOME\")\n",
    "print(a)"
   ]
  },
  {
   "cell_type": "code",
   "execution_count": 10,
   "id": "a93ba5ee",
   "metadata": {},
   "outputs": [
    {
     "name": "stdout",
     "output_type": "stream",
     "text": [
      "WELCOME\n",
      "None\n"
     ]
    }
   ],
   "source": [
    "print(print(\"WELCOME\"))"
   ]
  },
  {
   "cell_type": "code",
   "execution_count": 11,
   "id": "fa43411b",
   "metadata": {},
   "outputs": [
    {
     "name": "stdout",
     "output_type": "stream",
     "text": [
      "12\n",
      "-2\n"
     ]
    }
   ],
   "source": [
    "#--> We can pss function inside function\n",
    "\n",
    "def add(a,b):\n",
    "    return a+b\n",
    "def sub(a,b):\n",
    "    return a-b\n",
    "\n",
    "a,b=5,7\n",
    "print(add(a,b))\n",
    "print(sub(a,b))"
   ]
  },
  {
   "cell_type": "code",
   "execution_count": 12,
   "id": "88f3dc3c",
   "metadata": {},
   "outputs": [
    {
     "name": "stdout",
     "output_type": "stream",
     "text": [
      "Enter the No.:12\n",
      "Enter the No.:23\n",
      "Result: 35\n"
     ]
    }
   ],
   "source": [
    "# Examples of Layered Function\n",
    "\n",
    "#BLL: Business Logic Layer\n",
    "\n",
    "def add(a,b):\n",
    "    r=a+b\n",
    "    return r\n",
    "\n",
    "#Presentation Layer\n",
    "\n",
    "no1=int(input(\"Enter the No.:\"))\n",
    "no2=int(input(\"Enter the No.:\"))\n",
    "res=add(no1,no2)\n",
    "print(\"Result:\",res)"
   ]
  },
  {
   "cell_type": "code",
   "execution_count": 13,
   "id": "28378dcc",
   "metadata": {},
   "outputs": [
    {
     "name": "stdout",
     "output_type": "stream",
     "text": [
      "12\n"
     ]
    }
   ],
   "source": [
    "# New Program\n",
    "\n",
    "a,b=5,7                      # not good approach always make function with layered architecture\n",
    "s=add(a,b)\n",
    "print(s)\n",
    "def add(a,b):\n",
    "    return a+b"
   ]
  },
  {
   "cell_type": "code",
   "execution_count": null,
   "id": "f92a3608",
   "metadata": {},
   "outputs": [],
   "source": [
    "# -->Functions are never executed on its own.\n",
    "# -->Functons are always executed once they are called i.e Function body executes once we call but functions definition is\n",
    "#    created by its own."
   ]
  }
 ],
 "metadata": {
  "kernelspec": {
   "display_name": "Python 3 (ipykernel)",
   "language": "python",
   "name": "python3"
  },
  "language_info": {
   "codemirror_mode": {
    "name": "ipython",
    "version": 3
   },
   "file_extension": ".py",
   "mimetype": "text/x-python",
   "name": "python",
   "nbconvert_exporter": "python",
   "pygments_lexer": "ipython3",
   "version": "3.9.7"
  }
 },
 "nbformat": 4,
 "nbformat_minor": 5
}
