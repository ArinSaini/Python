{
 "cells": [
  {
   "cell_type": "markdown",
   "id": "0d937731",
   "metadata": {},
   "source": [
    "# Scientific Calculator"
   ]
  },
  {
   "cell_type": "code",
   "execution_count": 2,
   "id": "56df972a",
   "metadata": {},
   "outputs": [
    {
     "name": "stdout",
     "output_type": "stream",
     "text": [
      "Enter the first no.:5\n",
      "Enter the second no.:8\n",
      "Enter the choice +, -, *, /, pow, log:pow\n",
      "Result: 390625\n",
      "Wanna Continue Y/N:?y\n",
      "Enter the first no.:7\n",
      "Enter the second no.:9\n",
      "Enter the choice +, -, *, /, pow, log:log\n",
      "Result: 0.8856218745807111\n",
      "Wanna Continue Y/N:?y\n",
      "Enter the first no.:6\n",
      "Enter the second no.:5\n",
      "Enter the choice +, -, *, /, pow, log:factorial\n",
      "Incorrect choice\n",
      "Wanna Continue Y/N:?n\n"
     ]
    }
   ],
   "source": [
    "import operator\n",
    "import math\n",
    "while(1):\n",
    "    no1=int(input(\"Enter the first no.:\"))\n",
    "    no2=int(input(\"Enter the second no.:\"))\n",
    "    choice=input(\"Enter the choice +, -, *, /, pow, log:\")\n",
    "    if(choice==\"+\"):\n",
    "        res=no1+no2\n",
    "        print(\"Result:\", res)\n",
    "    elif(choice==\"-\"):\n",
    "        res=operator.sub(no1,no2)\n",
    "        print(\"Result:\", res)\n",
    "    elif(choice==\"*\"):\n",
    "        res=no1*no2\n",
    "        print(\"Result:\", res)\n",
    "    elif(choice==\"/\"):\n",
    "        res=no1/no2\n",
    "        print(\"Result:\", res)\n",
    "    elif(choice==\"pow\"):\n",
    "        res=no1**no2\n",
    "        print(\"Result:\", res)\n",
    "    elif(choice==\"log\"):\n",
    "        res=math.log(no1,no2)\n",
    "        print(\"Result:\", res)\n",
    "    else:\n",
    "        print(\"Incorrect choice\")\n",
    "    c=input(\"Wanna Continue Y/N:?\")\n",
    "    if(c==\"N\" or c==\"n\"):\n",
    "        break\n",
    "    "
   ]
  },
  {
   "cell_type": "code",
   "execution_count": 6,
   "id": "9f86688c",
   "metadata": {},
   "outputs": [
    {
     "name": "stdout",
     "output_type": "stream",
     "text": [
      "-0.9880316240928618\n",
      "0.15425144988758405\n",
      "265252859812191058636308480000000\n"
     ]
    }
   ],
   "source": [
    "# New Program \n",
    "\n",
    "x=30\n",
    "r1=math.sin(x)\n",
    "print(r1)\n",
    "r2=math.cos(x)\n",
    "print(r2)\n",
    "r3=math.factorial(x)\n",
    "print(r3)"
   ]
  }
 ],
 "metadata": {
  "kernelspec": {
   "display_name": "Python 3 (ipykernel)",
   "language": "python",
   "name": "python3"
  },
  "language_info": {
   "codemirror_mode": {
    "name": "ipython",
    "version": 3
   },
   "file_extension": ".py",
   "mimetype": "text/x-python",
   "name": "python",
   "nbconvert_exporter": "python",
   "pygments_lexer": "ipython3",
   "version": "3.9.7"
  }
 },
 "nbformat": 4,
 "nbformat_minor": 5
}
